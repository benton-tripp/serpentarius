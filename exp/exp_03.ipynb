{
 "cells": [
  {
   "cell_type": "code",
   "execution_count": null,
   "metadata": {},
   "outputs": [],
   "source": [
    "from pytrends.request import TrendReq\n",
    "from pytrends.exceptions import ResponseError\n",
    "from retry import retry\n",
    "import pandas as pd\n",
    "import time\n",
    "\n",
    "def keyword_research(keywords):\n",
    "    \n",
    "    all_related_queries = []  # List to store all related queries data\n",
    "\n",
    "    for keyword in keywords:\n",
    "        print(keyword)\n",
    "        pytrends = TrendReq(hl='en-US', tz=360)\n",
    "        pytrends.build_payload([keyword], cat=0, timeframe='today 5-y', geo='US')\n",
    "        related_queries = pytrends.related_queries()\n",
    "        if related_queries[keyword]['top'] is not None:\n",
    "            print(f\"Related queries for keyword '{keyword}':\")\n",
    "            print(related_queries[keyword]['top'])\n",
    "            \n",
    "            # Append each row of related queries to the all_related_queries list\n",
    "            for _, row in related_queries[keyword]['top'].iterrows():\n",
    "                row_data = {\n",
    "                    'Keyword': keyword,\n",
    "                    'Query': row['query'],\n",
    "                    'Value': row['value']\n",
    "                }\n",
    "                all_related_queries.append(row_data)\n",
    "        time.sleep(60)\n",
    "    \n",
    "    # Convert all_related_queries list to DataFrame\n",
    "    related_queries_df = pd.DataFrame(all_related_queries)\n",
    "    \n",
    "    # Export DataFrame to CSV\n",
    "    related_queries_df.to_csv('../data/related_queries.csv', index=False)\n",
    "    print(\"Related queries have been exported to 'related_queries.csv'.\")\n",
    "\n",
    "@retry(exceptions=ResponseError, delay=5, max_delay=60, tries=3)\n",
    "def keyword_research_with_retry(keywords):\n",
    "    try:\n",
    "        keyword_research(keywords)\n",
    "    except ResponseError as e:\n",
    "        print(f\"Error: {e}\")\n",
    "\n",
    "# Example usage\n",
    "keywords = [\"reptiles\", \"herping\", \"herping definition\", \"herping meaning\",\n",
    "            \"what is herping\", \"field herping\", \"herping website\", \"herping map\",\n",
    "            \"reptile map\", \"reptile heatmap\", \"find snakes\", \"find lizards\",\n",
    "            \"find turtles\", \"find tortoises\", \"find alligators\", \"find crocodiles\",\n",
    "            \"reptiles near me\", \"snake map\", \"lizard map\", \"alligator map\",\n",
    "            \"reptile species map\", \"reptile species distribution\", \"herping gear\"]\n",
    "\n",
    "keyword_research_with_retry(keywords)\n"
   ]
  },
  {
   "cell_type": "code",
   "execution_count": null,
   "metadata": {},
   "outputs": [],
   "source": [
    "import requests\n",
    "from bs4 import BeautifulSoup\n",
    "\n",
    "def competitor_analysis(url):\n",
    "    response = requests.get(url)\n",
    "    soup = BeautifulSoup(response.text, 'html.parser')\n",
    "    \n",
    "    # Extract traffic metrics, audience demographics, and engagement levels\n",
    "    # Example:\n",
    "    traffic_data = soup.find(class_='traffic-metrics')\n",
    "    audience_demographics = soup.find(class_='audience-demographics')\n",
    "    engagement_levels = soup.find(class_='engagement-levels')\n",
    "    \n",
    "    # Process and print extracted data\n",
    "    print(\"Traffic Metrics:\", traffic_data.text.strip())\n",
    "    print(\"Audience Demographics:\", audience_demographics.text.strip())\n",
    "    print(\"Engagement Levels:\", engagement_levels.text.strip())\n",
    "\n",
    "# Example usage\n",
    "url = \"https://examplecompetitor.com\"\n",
    "competitor_analysis(url)\n"
   ]
  },
  {
   "cell_type": "code",
   "execution_count": null,
   "metadata": {},
   "outputs": [],
   "source": [
    "import requests\n",
    "\n",
    "def fetch_traffic_data(url):\n",
    "    api_key = \"YOUR_SIMILARWEB_API_KEY\"\n",
    "    endpoint = f\"https://api.similarweb.com/v1/website/{url}/total-traffic-and-engagement/visits?api_key={api_key}\"\n",
    "    response = requests.get(endpoint)\n",
    "    data = response.json()\n",
    "    traffic_data = data['visits']\n",
    "    return traffic_data\n",
    "\n",
    "# Example usage\n",
    "url = \"examplecompetitor.com\"\n",
    "traffic_data = fetch_traffic_data(url)\n",
    "print(\"Estimated Traffic:\", traffic_data)\n"
   ]
  },
  {
   "cell_type": "code",
   "execution_count": null,
   "metadata": {},
   "outputs": [],
   "source": [
    "# https://colab.research.google.com/drive/1fraZ6WGFOt-nNKtK1E0oIlQ4X9UdH5V6#scrollTo=25iwK1kspGVK"
   ]
  }
 ],
 "metadata": {
  "kernelspec": {
   "display_name": "env",
   "language": "python",
   "name": "python3"
  },
  "language_info": {
   "codemirror_mode": {
    "name": "ipython",
    "version": 3
   },
   "file_extension": ".py",
   "mimetype": "text/x-python",
   "name": "python",
   "nbconvert_exporter": "python",
   "pygments_lexer": "ipython3",
   "version": "3.10.5"
  }
 },
 "nbformat": 4,
 "nbformat_minor": 2
}
